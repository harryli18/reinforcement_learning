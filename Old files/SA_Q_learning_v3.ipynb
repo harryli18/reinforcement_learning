{
  "nbformat": 4,
  "nbformat_minor": 0,
  "metadata": {
    "colab": {
      "name": "SA_Q_learning_v3.ipynb",
      "version": "0.3.2",
      "provenance": [],
      "collapsed_sections": []
    },
    "kernelspec": {
      "name": "python3",
      "display_name": "Python 3"
    }
  },
  "cells": [
    {
      "metadata": {
        "id": "-lMy1pkPQR-e",
        "colab_type": "code",
        "colab": {}
      },
      "cell_type": "code",
      "source": [
        "# Import the useful libraries \n",
        "import numpy as np\n",
        "import pandas as pd\n",
        "import os\n",
        "from random import randint\n",
        "import matplotlib.pyplot as plt"
      ],
      "execution_count": 0,
      "outputs": []
    },
    {
      "metadata": {
        "id": "H6BzgqDcQbMW",
        "colab_type": "code",
        "colab": {
          "base_uri": "https://localhost:8080/",
          "height": 202
        },
        "outputId": "2387a27a-c04b-42b0-ec7d-f139c13d7675"
      },
      "cell_type": "code",
      "source": [
        "# Define R Matrix \n",
        "\n",
        "R = np.matrix([[0, 0, np.nan, np.nan, 0, np.nan, np.nan, np.nan, np.nan, np.nan, np.nan],\n",
        "                [0, 0, 0, np.nan, 0, 0, np.nan, np.nan, np.nan, np.nan, np.nan],\n",
        "                [np.nan, 0, 0, 0, np.nan, np.nan, 100, np.nan, np.nan, np.nan, np.nan],\n",
        "                [np.nan, np.nan, 0, 0, np.nan, np.nan, 100, np.nan, np.nan, np.nan, np.nan],\n",
        "                [0, 0, np.nan, np.nan, 0, 0, np.nan, np.nan, 0, 0, np.nan],\n",
        "                [np.nan, 0, np.nan, np.nan, 0, 0, 100, 0, np.nan, np.nan, np.nan],\n",
        "                [np.nan, np.nan, 0, 0, np.nan, 0, 100, 0, np.nan, np.nan, np.nan],\n",
        "                [np.nan, np.nan, np.nan, np.nan, np.nan, 0, 100, 0, np.nan, np.nan, 0],\n",
        "                [np.nan, np.nan, np.nan, np.nan, 0, np.nan, np.nan, np.nan, 0, 0, np.nan],\n",
        "                [np.nan, np.nan, np.nan, np.nan, 0, np.nan, np.nan, np.nan, 0, 0, 0],\n",
        "                [np.nan, np.nan, np.nan, np.nan, np.nan, np.nan, np.nan, 0, np.nan, 0, 0]])\n",
        "\n",
        "print(R)"
      ],
      "execution_count": 2,
      "outputs": [
        {
          "output_type": "stream",
          "text": [
            "[[  0.   0.  nan  nan   0.  nan  nan  nan  nan  nan  nan]\n",
            " [  0.   0.   0.  nan   0.   0.  nan  nan  nan  nan  nan]\n",
            " [ nan   0.   0.   0.  nan  nan 100.  nan  nan  nan  nan]\n",
            " [ nan  nan   0.   0.  nan  nan 100.  nan  nan  nan  nan]\n",
            " [  0.   0.  nan  nan   0.   0.  nan  nan   0.   0.  nan]\n",
            " [ nan   0.  nan  nan   0.   0. 100.   0.  nan  nan  nan]\n",
            " [ nan  nan   0.   0.  nan   0. 100.   0.  nan  nan  nan]\n",
            " [ nan  nan  nan  nan  nan   0. 100.   0.  nan  nan   0.]\n",
            " [ nan  nan  nan  nan   0.  nan  nan  nan   0.   0.  nan]\n",
            " [ nan  nan  nan  nan   0.  nan  nan  nan   0.   0.   0.]\n",
            " [ nan  nan  nan  nan  nan  nan  nan   0.  nan   0.   0.]]\n"
          ],
          "name": "stdout"
        }
      ]
    },
    {
      "metadata": {
        "id": "PpeNWi-5R7Rq",
        "colab_type": "code",
        "colab": {
          "base_uri": "https://localhost:8080/",
          "height": 202
        },
        "outputId": "683f503e-f595-499d-b5c0-6c1d6807421e"
      },
      "cell_type": "code",
      "source": [
        "# Initialise Q Matrix \n",
        "Q = np.matrix(np.zeros([11,11]))\n",
        "\n",
        "print(Q)"
      ],
      "execution_count": 3,
      "outputs": [
        {
          "output_type": "stream",
          "text": [
            "[[0. 0. 0. 0. 0. 0. 0. 0. 0. 0. 0.]\n",
            " [0. 0. 0. 0. 0. 0. 0. 0. 0. 0. 0.]\n",
            " [0. 0. 0. 0. 0. 0. 0. 0. 0. 0. 0.]\n",
            " [0. 0. 0. 0. 0. 0. 0. 0. 0. 0. 0.]\n",
            " [0. 0. 0. 0. 0. 0. 0. 0. 0. 0. 0.]\n",
            " [0. 0. 0. 0. 0. 0. 0. 0. 0. 0. 0.]\n",
            " [0. 0. 0. 0. 0. 0. 0. 0. 0. 0. 0.]\n",
            " [0. 0. 0. 0. 0. 0. 0. 0. 0. 0. 0.]\n",
            " [0. 0. 0. 0. 0. 0. 0. 0. 0. 0. 0.]\n",
            " [0. 0. 0. 0. 0. 0. 0. 0. 0. 0. 0.]\n",
            " [0. 0. 0. 0. 0. 0. 0. 0. 0. 0. 0.]]\n"
          ],
          "name": "stdout"
        }
      ]
    },
    {
      "metadata": {
        "id": "tvkV6wMzR9zd",
        "colab_type": "code",
        "colab": {}
      },
      "cell_type": "code",
      "source": [
        "# Define initial parameters \n",
        "alpha = 0.9 # alpha is the learning rate\n",
        "gamma = 0.8 # gamma is the discount factor \n",
        "epsilon = 0.1 # epsilon is the exploration factor\n",
        "decay = 0.95 # df is the decay factor for epsilon"
      ],
      "execution_count": 0,
      "outputs": []
    },
    {
      "metadata": {
        "id": "z7q6Kr6MR_8w",
        "colab_type": "code",
        "colab": {}
      },
      "cell_type": "code",
      "source": [
        "def q_learning(alpha, gamma, epsilon, decay):\n",
        "    \n",
        "  # initialise current state in random\n",
        "  current_state = randint(0, 10)\n",
        "  \n",
        "  # check available actions in the current state\n",
        "  current_state_row = R[current_state,]\n",
        "  av_act = np.where(current_state_row >= 0)[1]\n",
        "  \n",
        "  # randomly select the next action and record in steps\n",
        "  next_action = int(np.random.choice(av_act,1))\n",
        "  \n",
        "  # epislon greedy policy\n",
        "  if np.random.uniform(0, 1) > epsilon:\n",
        "    one_step_ahead_q_value = np.max(Q[next_action, :])\n",
        "  else:\n",
        "    one_step_ahead_q_value = np.random.choice(np.array(Q[next_action,:]).ravel())\n",
        "  \n",
        "  # update Q-matrix\n",
        "  Q[current_state, next_action] = Q[current_state, next_action] + alpha * (R[current_state, next_action] + gamma * one_step_ahead_q_value - Q[current_state, next_action])\n",
        "  \n",
        "  # update epsilon value\n",
        "  epsilon *= decay\n",
        "  \n",
        "  # return Q-matrix and number of steps\n",
        "  return Q"
      ],
      "execution_count": 0,
      "outputs": []
    },
    {
      "metadata": {
        "id": "tdv6LeK8SGOe",
        "colab_type": "code",
        "colab": {}
      },
      "cell_type": "code",
      "source": [
        "def evaluate(Q, episode):\n",
        "  \n",
        "  # initiate current state\n",
        "  current_state = randint(0,10)\n",
        "#   current_state = 8\n",
        "  steps = [current_state]\n",
        "  reward = 0\n",
        "  \n",
        "  # set rule if initiated from Station 7\n",
        "  if current_state == 6:\n",
        "    reward += np.max(Q[current_state, :])\n",
        "  \n",
        "  # step for start from other stations\n",
        "  else:\n",
        "    while current_state != 6:\n",
        "      \n",
        "      # check available actions, particular for early episode that Q value is 0 \n",
        "      current_state_row = R[current_state, :]\n",
        "      av_act = np.where(current_state_row >= 0)[1]\n",
        "      \n",
        "      # index for maximum value\n",
        "      max_index = np.where(Q[current_state,:] == np.max(Q[current_state, av_act]))[1]\n",
        "      \n",
        "      if max_index.shape[0] > 1:\n",
        "        next_step = int(np.random.choice(max_index, size = 1))\n",
        "      else:\n",
        "        next_step = int(max_index)\n",
        "      \n",
        "      # append next action and reward\n",
        "      next_reward = np.max(Q[current_state, max_index])\n",
        "      \n",
        "      steps.append(next_step)\n",
        "      reward += next_reward\n",
        "      current_state = next_step\n",
        "      \n",
        "  \n",
        "  average_reward.append((episode, reward/len(steps)))  \n",
        "  step_cont.append((episode, len(steps)))\n",
        "  \n",
        "  return average_reward, step_cont"
      ],
      "execution_count": 0,
      "outputs": []
    },
    {
      "metadata": {
        "id": "afdJtCkFSRUC",
        "colab_type": "code",
        "colab": {
          "base_uri": "https://localhost:8080/",
          "height": 622
        },
        "outputId": "6ea653ad-87cd-4e8e-a2ab-215eb3ae90e6"
      },
      "cell_type": "code",
      "source": [
        "average_reward = []\n",
        "step_cont = []\n",
        "\n",
        "for episode in range(100):\n",
        "  Q = q_learning(alpha, gamma, 0, 1)\n",
        "#   Q = (Q/np.matrix.max(Q))*100\n",
        "  average_reward, step_cont = evaluate(Q, episode)\n",
        "\n",
        "print(Q)\n",
        "# print(average_reward)\n",
        "# print(step_cont)"
      ],
      "execution_count": 7,
      "outputs": [
        {
          "output_type": "stream",
          "text": [
            "[[  0.           0.           0.           0.           0.\n",
            "    0.           0.           0.           0.           0.\n",
            "    0.        ]\n",
            " [  0.           0.           0.           0.           0.\n",
            "    0.           0.           0.           0.           0.\n",
            "    0.        ]\n",
            " [  0.           0.         133.75233085   0.           0.\n",
            "    0.         185.76712618   0.           0.           0.\n",
            "    0.        ]\n",
            " [  0.           0.         144.98195312 140.42238938   0.\n",
            "    0.         232.14669297   0.           0.           0.\n",
            "    0.        ]\n",
            " [  0.           0.           0.           0.           0.\n",
            "    0.           0.           0.           0.           0.\n",
            "    0.        ]\n",
            " [  0.           0.           0.           0.           0.\n",
            "    0.           0.           0.           0.           0.\n",
            "    0.        ]\n",
            " [  0.           0.         145.0840406  174.33841894   0.\n",
            "    0.         171.58831018 133.22310938   0.           0.\n",
            "    0.        ]\n",
            " [  0.           0.           0.           0.           0.\n",
            "    0.         185.03209636 102.0874752    0.           0.\n",
            "   73.50298214]\n",
            " [  0.           0.           0.           0.           0.\n",
            "    0.           0.           0.           0.           0.\n",
            "    0.        ]\n",
            " [  0.           0.           0.           0.           0.\n",
            "    0.           0.           0.           0.          58.21436186\n",
            "   73.50298214]\n",
            " [  0.           0.           0.           0.           0.\n",
            "    0.           0.         102.0874752    0.          52.92214714\n",
            "   81.66181316]]\n"
          ],
          "name": "stdout"
        },
        {
          "output_type": "stream",
          "text": [
            "/usr/local/lib/python3.6/dist-packages/ipykernel_launcher.py:8: RuntimeWarning: invalid value encountered in greater_equal\n",
            "  \n",
            "/usr/local/lib/python3.6/dist-packages/ipykernel_launcher.py:19: RuntimeWarning: invalid value encountered in greater_equal\n"
          ],
          "name": "stderr"
        }
      ]
    },
    {
      "metadata": {
        "id": "jh17iz3tS17b",
        "colab_type": "code",
        "colab": {
          "base_uri": "https://localhost:8080/",
          "height": 195
        },
        "outputId": "a95c0c30-8b86-4cdd-ed65-d746429b14bb"
      },
      "cell_type": "code",
      "source": [
        "df_reward = pd.DataFrame.from_records(average_reward, columns = ['Episodes', 'Average Reward Per Step'])\n",
        "df_step = pd.DataFrame.from_records(step_cont, columns = ['Episodes','Steps'])\n",
        "\n",
        "df = pd.merge(df_reward, df_step, on='Episodes')\n",
        "df.head(5)"
      ],
      "execution_count": 8,
      "outputs": [
        {
          "output_type": "execute_result",
          "data": {
            "text/html": [
              "<div>\n",
              "<style scoped>\n",
              "    .dataframe tbody tr th:only-of-type {\n",
              "        vertical-align: middle;\n",
              "    }\n",
              "\n",
              "    .dataframe tbody tr th {\n",
              "        vertical-align: top;\n",
              "    }\n",
              "\n",
              "    .dataframe thead th {\n",
              "        text-align: right;\n",
              "    }\n",
              "</style>\n",
              "<table border=\"1\" class=\"dataframe\">\n",
              "  <thead>\n",
              "    <tr style=\"text-align: right;\">\n",
              "      <th></th>\n",
              "      <th>Episodes</th>\n",
              "      <th>Average Reward Per Step</th>\n",
              "      <th>Steps</th>\n",
              "    </tr>\n",
              "  </thead>\n",
              "  <tbody>\n",
              "    <tr>\n",
              "      <th>0</th>\n",
              "      <td>0</td>\n",
              "      <td>0.0</td>\n",
              "      <td>4</td>\n",
              "    </tr>\n",
              "    <tr>\n",
              "      <th>1</th>\n",
              "      <td>1</td>\n",
              "      <td>0.0</td>\n",
              "      <td>13</td>\n",
              "    </tr>\n",
              "    <tr>\n",
              "      <th>2</th>\n",
              "      <td>2</td>\n",
              "      <td>0.0</td>\n",
              "      <td>12</td>\n",
              "    </tr>\n",
              "    <tr>\n",
              "      <th>3</th>\n",
              "      <td>3</td>\n",
              "      <td>0.0</td>\n",
              "      <td>13</td>\n",
              "    </tr>\n",
              "    <tr>\n",
              "      <th>4</th>\n",
              "      <td>4</td>\n",
              "      <td>0.0</td>\n",
              "      <td>3</td>\n",
              "    </tr>\n",
              "  </tbody>\n",
              "</table>\n",
              "</div>"
            ],
            "text/plain": [
              "   Episodes  Average Reward Per Step  Steps\n",
              "0         0                      0.0      4\n",
              "1         1                      0.0     13\n",
              "2         2                      0.0     12\n",
              "3         3                      0.0     13\n",
              "4         4                      0.0      3"
            ]
          },
          "metadata": {
            "tags": []
          },
          "execution_count": 8
        }
      ]
    },
    {
      "metadata": {
        "id": "v49qA0AWTEWz",
        "colab_type": "code",
        "colab": {
          "base_uri": "https://localhost:8080/",
          "height": 365
        },
        "outputId": "b68af255-a2ef-41e9-ba02-24aae4d70cfa"
      },
      "cell_type": "code",
      "source": [
        "# plt.style.use('seaborn')\n",
        "\n",
        "fig, ax1 = plt.subplots()\n",
        "\n",
        "ax2 = ax1.twinx()\n",
        "ax1.plot(df['Episodes'], df['Steps'],'g-')\n",
        "ax2.plot(df['Episodes'], df['Average Reward Per Step'], 'b-')\n",
        "\n",
        "ax1.set_ylim(0, 40)\n",
        "ax2.set_ylim(0, 200)\n",
        "\n",
        "ax1.set_xlabel('Episodes')\n",
        "ax1.set_ylabel('Steps', color='g')\n",
        "ax2.set_ylabel('Average Reward Per Step', color='b')\n",
        "\n",
        "plt.show()"
      ],
      "execution_count": 11,
      "outputs": [
        {
          "output_type": "display_data",
          "data": {
            "image/png": "[encoded data removed]",
            "text/plain": [
              "<Figure size 576x396 with 2 Axes>"
            ]
          },
          "metadata": {
            "tags": []
          }
        }
      ]
    },
    {
      "metadata": {
        "id": "YNeOoCNqTJVC",
        "colab_type": "code",
        "colab": {}
      },
      "cell_type": "code",
      "source": [
        ""
      ],
      "execution_count": 0,
      "outputs": []
    }
  ]
}